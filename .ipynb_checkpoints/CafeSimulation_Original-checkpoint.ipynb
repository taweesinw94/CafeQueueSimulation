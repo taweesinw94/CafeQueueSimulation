{
 "cells": [
  {
   "cell_type": "code",
   "execution_count": 160,
   "metadata": {},
   "outputs": [
    {
     "data": {
      "text/plain": [
       "<Figure size 1440x1440 with 0 Axes>"
      ]
     },
     "metadata": {},
     "output_type": "display_data"
    }
   ],
   "source": [
    "import simpy\n",
    "from mylibrary import MonitoredResource\n",
    "import numpy as np\n",
    "import pandas as pd\n",
    "import matplotlib.pyplot as plt\n",
    "import seaborn as snd\n",
    "snd.set(rc={'figure.figsize':(15,8.27)})\n",
    "cashierWaitTime = []\n",
    "stationWaitTime = []\n",
    "cashierUsersY = []\n",
    "cashierUsersX = []\n",
    "stationUsersY = []\n",
    "stationUsersX = []\n",
    "stationUtilizationX = []\n",
    "stationUtilizationY = []\n",
    "cashierUtilizationX = []\n",
    "cashierUtilizationY = []\n",
    "stationBusyPeriod = []\n",
    "cashierBusyPeriod = []\n",
    "percievedWaitTime = []\n",
    "log = []\n",
    "plt.figure(num=None, figsize=(20, 20))\n",
    "SIMULATIONTIME = 600\n",
    "CASHIERSERVICERATE = 2.142\n",
    "STATIONSERVICERATE = 2.109\n",
    "ARRIVALRATE =  3.342\n",
    "RANDOM_SEED = 37\n",
    "np.random.seed(RANDOM_SEED)"
   ]
  },
  {
   "cell_type": "code",
   "execution_count": 161,
   "metadata": {},
   "outputs": [],
   "source": [
    "class Cafe:\n",
    "    def __init__(self, env):\n",
    "        self.cashier = MonitoredResource(env, capacity=1)\n",
    "        self.station = MonitoredResource(env, capacity=1)"
   ]
  },
  {
   "cell_type": "code",
   "execution_count": 162,
   "metadata": {},
   "outputs": [],
   "source": [
    "def Order(name, env, cafe, serviceRate):\n",
    "    print('Order %s is heard at %s' % (name, env.now))\n",
    "    order_name = 'Order ' + str(name)\n",
    "    log.append({'Time': env.now, 'Entity': order_name, 'Event': 'Enters'}, ignore_index=True)\n",
    "    tempWaitTime = env.now\n",
    "    serviceTime = np.random.exponential(serviceRate)\n",
    "    stationUsersY.append( len(cafe.station.users))\n",
    "    stationUsersX.append(env.now)\n",
    "    with cafe.station.request() as req:\n",
    "        yield req\n",
    "        stationUtilizationX.append(env.now)\n",
    "        stationUtilizationY.append(1)\n",
    "        stationWaitTime.append(env.now - tempWaitTime)\n",
    "        print('Staff starts to make the order %s at %s' % (name, env.now))\n",
    "        log.append({'Time': env.now, 'Entity': order_name, 'Event': 'Processing'}, ignore_index=True)\n",
    "        yield env.timeout(serviceTime)\n",
    "        print('Stafff finish making order %s  at %s' % (name, env.now))\n",
    "        stationBusyPeriod.append(env.now-serviceTime)\n",
    "        stationUsersY.append(len(cafe.station.queue) + len(cafe.station.users))\n",
    "        stationUsersX.append(env.now)\n",
    "        percievedWaitTime[name] = env.now - percievedWaitTime[name]\n",
    "        log.append({'Time': env.now, 'Entity': order_name, 'Event': 'Leaves'}, ignore_index=True)\n",
    "        if len(cafe.station.queue) == 0:\n",
    "            stationUtilizationX.append(env.now)\n",
    "            stationUtilizationY.append(0)"
   ]
  },
  {
   "cell_type": "code",
   "execution_count": 163,
   "metadata": {},
   "outputs": [],
   "source": [
    "def Customer(name, env, cafe, cashierServiceRate, stationServiceRate):\n",
    "    customer_name = 'Customer ' + str(name)\n",
    "    print('Customer %s arriving at %s' % (name, env.now))\n",
    "    log.append({'Time': env.now, 'Entity': customer_name, 'Event': 'Enters'}, ignore_index=True)\n",
    "    tempWaitTime = env.now\n",
    "    percievedWaitTime.append(env.now)\n",
    "    cashierUsersY.append(len(cafe.cashier.users))\n",
    "    cashierUsersX.append(env.now)\n",
    "    serviceTime = np.random.exponential(cashierServiceRate)\n",
    "    with cafe.cashier.request() as req:\n",
    "        yield req\n",
    "        cashierUtilizationX.append(env.now)\n",
    "        cashierUtilizationY.append(1)\n",
    "        cashierWaitTime.append(env.now - tempWaitTime)\n",
    "        print('Customer %s starts to order at %s' % (name, env.now))\n",
    "        log.append({'Time': env.now, 'Entity': customer_name, 'Event': 'Processing'}, ignore_index=True)\n",
    "        yield env.timeout(0.2*serviceTime)\n",
    "        yield env.timeout(0.8*serviceTime)\n",
    "        print('Customer %s done with ordering at %s' % (name, env.now))\n",
    "        log.append({'Time': env.now, 'Entity': customer_name, 'Event': 'Leaves'}, ignore_index=True)\n",
    "        cashierUsersY.append(len(cafe.cashier.queue) + len(cafe.cashier.users))\n",
    "        env.process(Order(name, env, cafe, stationServiceRate))\n",
    "        cashierUsersX.append(env.now)\n",
    "        cashierBusyPeriod.append(env.now-serviceTime)\n",
    "        if len(cafe.cashier.queue) == 0:\n",
    "            cashierUtilizationX.append(env.now)\n",
    "            cashierUtilizationY.append(0)"
   ]
  },
  {
   "cell_type": "code",
   "execution_count": 164,
   "metadata": {},
   "outputs": [],
   "source": [
    "def CustomerGenerator(env, cafe, arrivalRate, cashierServiceRate, stationServiceRate):\n",
    "    i = 0\n",
    "    while env.now < SIMULATIONTIME:\n",
    "        interArrivalTime = np.random.exponential(arrivalRate)\n",
    "        env.process(Customer(i, env, cafe, cashierServiceRate, stationServiceRate))\n",
    "        i += 1\n",
    "        yield env.timeout(interArrivalTime)"
   ]
  },
  {
   "cell_type": "code",
   "execution_count": 165,
   "metadata": {},
   "outputs": [
    {
     "name": "stdout",
     "output_type": "stream",
     "text": [
      "Customer 0 arriving at 0\n"
     ]
    },
    {
     "ename": "TypeError",
     "evalue": "update() missing 1 required positional argument: 'other'",
     "output_type": "error",
     "traceback": [
      "\u001b[0;31m---------------------------------------------------------------------------\u001b[0m",
      "\u001b[0;31mTypeError\u001b[0m                                 Traceback (most recent call last)",
      "\u001b[0;32m<ipython-input-163-499ca40ecef6>\u001b[0m in \u001b[0;36mCustomer\u001b[0;34m(name, env, cafe, cashierServiceRate, stationServiceRate)\u001b[0m\n\u001b[1;32m      4\u001b[0m     \u001b[0mlog\u001b[0m\u001b[0;34m.\u001b[0m\u001b[0mappend\u001b[0m\u001b[0;34m(\u001b[0m\u001b[0;34m{\u001b[0m\u001b[0;34m'Time'\u001b[0m\u001b[0;34m:\u001b[0m \u001b[0menv\u001b[0m\u001b[0;34m.\u001b[0m\u001b[0mnow\u001b[0m\u001b[0;34m,\u001b[0m \u001b[0;34m'Entity'\u001b[0m\u001b[0;34m:\u001b[0m \u001b[0mcustomer_name\u001b[0m\u001b[0;34m,\u001b[0m \u001b[0;34m'Event'\u001b[0m\u001b[0;34m:\u001b[0m \u001b[0;34m'Enters'\u001b[0m\u001b[0;34m}\u001b[0m\u001b[0;34m,\u001b[0m \u001b[0mignore_index\u001b[0m\u001b[0;34m=\u001b[0m\u001b[0;32mTrue\u001b[0m\u001b[0;34m)\u001b[0m\u001b[0;34m\u001b[0m\u001b[0m\n\u001b[0;32m----> 5\u001b[0;31m     \u001b[0mlog\u001b[0m\u001b[0;34m.\u001b[0m\u001b[0mupdate\u001b[0m\u001b[0;34m(\u001b[0m\u001b[0;34m)\u001b[0m\u001b[0;34m\u001b[0m\u001b[0m\n\u001b[0m\u001b[1;32m      6\u001b[0m     \u001b[0mtempWaitTime\u001b[0m \u001b[0;34m=\u001b[0m \u001b[0menv\u001b[0m\u001b[0;34m.\u001b[0m\u001b[0mnow\u001b[0m\u001b[0;34m\u001b[0m\u001b[0m\n",
      "\u001b[0;31mTypeError\u001b[0m: update() missing 1 required positional argument: 'other'",
      "\nThe above exception was the direct cause of the following exception:\n",
      "\u001b[0;31mTypeError\u001b[0m                                 Traceback (most recent call last)",
      "\u001b[0;32m<ipython-input-165-67b965e25272>\u001b[0m in \u001b[0;36m<module>\u001b[0;34m()\u001b[0m\n\u001b[1;32m      2\u001b[0m \u001b[0mcoffee_world\u001b[0m \u001b[0;34m=\u001b[0m \u001b[0mCafe\u001b[0m\u001b[0;34m(\u001b[0m\u001b[0menv\u001b[0m\u001b[0;34m)\u001b[0m\u001b[0;34m\u001b[0m\u001b[0m\n\u001b[1;32m      3\u001b[0m \u001b[0mcustomer_gen\u001b[0m \u001b[0;34m=\u001b[0m \u001b[0menv\u001b[0m\u001b[0;34m.\u001b[0m\u001b[0mprocess\u001b[0m\u001b[0;34m(\u001b[0m\u001b[0mCustomerGenerator\u001b[0m\u001b[0;34m(\u001b[0m\u001b[0menv\u001b[0m\u001b[0;34m,\u001b[0m \u001b[0mcoffee_world\u001b[0m\u001b[0;34m,\u001b[0m \u001b[0mARRIVALRATE\u001b[0m\u001b[0;34m,\u001b[0m \u001b[0mCASHIERSERVICERATE\u001b[0m\u001b[0;34m,\u001b[0m \u001b[0mSTATIONSERVICERATE\u001b[0m\u001b[0;34m)\u001b[0m\u001b[0;34m)\u001b[0m\u001b[0;34m\u001b[0m\u001b[0m\n\u001b[0;32m----> 4\u001b[0;31m \u001b[0menv\u001b[0m\u001b[0;34m.\u001b[0m\u001b[0mrun\u001b[0m\u001b[0;34m(\u001b[0m\u001b[0mSIMULATIONTIME\u001b[0m\u001b[0;34m)\u001b[0m\u001b[0;34m\u001b[0m\u001b[0m\n\u001b[0m",
      "\u001b[0;32m/usr/local/lib/python3.6/dist-packages/simpy/core.py\u001b[0m in \u001b[0;36mrun\u001b[0;34m(self, until)\u001b[0m\n\u001b[1;32m    136\u001b[0m         \u001b[0;32mtry\u001b[0m\u001b[0;34m:\u001b[0m\u001b[0;34m\u001b[0m\u001b[0m\n\u001b[1;32m    137\u001b[0m             \u001b[0;32mwhile\u001b[0m \u001b[0;32mTrue\u001b[0m\u001b[0;34m:\u001b[0m\u001b[0;34m\u001b[0m\u001b[0m\n\u001b[0;32m--> 138\u001b[0;31m                 \u001b[0mself\u001b[0m\u001b[0;34m.\u001b[0m\u001b[0mstep\u001b[0m\u001b[0;34m(\u001b[0m\u001b[0;34m)\u001b[0m\u001b[0;34m\u001b[0m\u001b[0m\n\u001b[0m\u001b[1;32m    139\u001b[0m         \u001b[0;32mexcept\u001b[0m \u001b[0mStopSimulation\u001b[0m \u001b[0;32mas\u001b[0m \u001b[0mexc\u001b[0m\u001b[0;34m:\u001b[0m\u001b[0;34m\u001b[0m\u001b[0m\n\u001b[1;32m    140\u001b[0m             \u001b[0;32mreturn\u001b[0m \u001b[0mexc\u001b[0m\u001b[0;34m.\u001b[0m\u001b[0margs\u001b[0m\u001b[0;34m[\u001b[0m\u001b[0;36m0\u001b[0m\u001b[0;34m]\u001b[0m  \u001b[0;31m# == until.value\u001b[0m\u001b[0;34m\u001b[0m\u001b[0m\n",
      "\u001b[0;32m/usr/local/lib/python3.6/dist-packages/simpy/core.py\u001b[0m in \u001b[0;36mstep\u001b[0;34m(self)\u001b[0m\n\u001b[1;32m    228\u001b[0m             \u001b[0mexc\u001b[0m \u001b[0;34m=\u001b[0m \u001b[0mtype\u001b[0m\u001b[0;34m(\u001b[0m\u001b[0mevent\u001b[0m\u001b[0;34m.\u001b[0m\u001b[0m_value\u001b[0m\u001b[0;34m)\u001b[0m\u001b[0;34m(\u001b[0m\u001b[0;34m*\u001b[0m\u001b[0mevent\u001b[0m\u001b[0;34m.\u001b[0m\u001b[0m_value\u001b[0m\u001b[0;34m.\u001b[0m\u001b[0margs\u001b[0m\u001b[0;34m)\u001b[0m\u001b[0;34m\u001b[0m\u001b[0m\n\u001b[1;32m    229\u001b[0m             \u001b[0mexc\u001b[0m\u001b[0;34m.\u001b[0m\u001b[0m__cause__\u001b[0m \u001b[0;34m=\u001b[0m \u001b[0mevent\u001b[0m\u001b[0;34m.\u001b[0m\u001b[0m_value\u001b[0m\u001b[0;34m\u001b[0m\u001b[0m\n\u001b[0;32m--> 230\u001b[0;31m             \u001b[0;32mraise\u001b[0m \u001b[0mexc\u001b[0m\u001b[0;34m\u001b[0m\u001b[0m\n\u001b[0m",
      "\u001b[0;31mTypeError\u001b[0m: update() missing 1 required positional argument: 'other'"
     ]
    }
   ],
   "source": [
    "env = simpy.Environment()\n",
    "coffee_world = Cafe(env)\n",
    "customer_gen = env.process(CustomerGenerator(env, coffee_world, ARRIVALRATE, CASHIERSERVICERATE, STATIONSERVICERATE))\n",
    "env.run(SIMULATIONTIME)\n"
   ]
  },
  {
   "cell_type": "code",
   "execution_count": null,
   "metadata": {},
   "outputs": [],
   "source": [
    "df = pd.DataFrame()\n",
    "df['time'] = cashierUsersX\n",
    "df['users'] = cashierUsersY\n",
    "ax = snd.lineplot(x=\"time\", y=\"users\", data=df)"
   ]
  },
  {
   "cell_type": "code",
   "execution_count": null,
   "metadata": {},
   "outputs": [],
   "source": [
    "df = pd.DataFrame()\n",
    "df['time'] = stationUsersX\n",
    "df['users'] = stationUsersY\n",
    "ax = snd.lineplot(x=\"time\", y=\"users\", data=df)"
   ]
  },
  {
   "cell_type": "code",
   "execution_count": null,
   "metadata": {},
   "outputs": [],
   "source": [
    "df = pd.DataFrame()\n",
    "df['time'] = stationUtilizationX\n",
    "df['utilization'] = stationUtilizationY\n",
    "ax = snd.lineplot(x=\"time\", y=\"utilization\", data=df)"
   ]
  },
  {
   "cell_type": "code",
   "execution_count": null,
   "metadata": {},
   "outputs": [],
   "source": [
    "df = pd.DataFrame()\n",
    "df['time'] = cashierUtilizationX\n",
    "df['utilization'] = cashierUtilizationY\n",
    "ax = snd.lineplot(x=\"time\", y=\"utilization\", data=df)"
   ]
  },
  {
   "cell_type": "code",
   "execution_count": null,
   "metadata": {},
   "outputs": [],
   "source": [
    "cashier_utilization = sum(cashierBusyPeriod)/SIMULATIONTIME\n",
    "print(cashier_utilization)\n",
    "station_utilization = sum(stationBusyPeriod)/SIMULATIONTIME\n",
    "print(station_utilization)"
   ]
  },
  {
   "cell_type": "code",
   "execution_count": null,
   "metadata": {},
   "outputs": [],
   "source": [
    "averageCashierWaitTime = sum(cashierWaitTime)/len(cashierWaitTime)\n",
    "print(averageCashierWaitTime)\n",
    "averageStationWaitTime = sum(stationWaitTime)/len(stationWaitTime)\n",
    "print(averageStationWaitTime)"
   ]
  },
  {
   "cell_type": "code",
   "execution_count": null,
   "metadata": {},
   "outputs": [],
   "source": [
    "averagePercievedWaitTime = sum(percievedWaitTime)/len(percievedWaitTime)\n",
    "print(averagePercievedWaitTime)\n",
    "log.head()"
   ]
  }
 ],
 "metadata": {
  "kernelspec": {
   "display_name": "Python 3",
   "language": "python",
   "name": "python3"
  },
  "language_info": {
   "codemirror_mode": {
    "name": "ipython",
    "version": 3
   },
   "file_extension": ".py",
   "mimetype": "text/x-python",
   "name": "python",
   "nbconvert_exporter": "python",
   "pygments_lexer": "ipython3",
   "version": "3.6.5"
  }
 },
 "nbformat": 4,
 "nbformat_minor": 2
}
